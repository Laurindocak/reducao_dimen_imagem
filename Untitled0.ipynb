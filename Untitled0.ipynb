{
  "nbformat": 4,
  "nbformat_minor": 0,
  "metadata": {
    "colab": {
      "provenance": [],
      "authorship_tag": "ABX9TyPHTZagrxMPzV6VXU43GLTw",
      "include_colab_link": true
    },
    "kernelspec": {
      "name": "python3",
      "display_name": "Python 3"
    },
    "language_info": {
      "name": "python"
    }
  },
  "cells": [
    {
      "cell_type": "markdown",
      "metadata": {
        "id": "view-in-github",
        "colab_type": "text"
      },
      "source": [
        "<a href=\"https://colab.research.google.com/github/Laurindocak/reducao_dimen_imagem/blob/main/Untitled0.ipynb\" target=\"_parent\"><img src=\"https://colab.research.google.com/assets/colab-badge.svg\" alt=\"Open In Colab\"/></a>"
      ]
    },
    {
      "cell_type": "code",
      "execution_count": 1,
      "metadata": {
        "colab": {
          "base_uri": "https://localhost:8080/"
        },
        "id": "k3_u9QiNaaE2",
        "outputId": "59881d59-1ca2-4028-9065-a3aa2feb0a81"
      },
      "outputs": [
        {
          "output_type": "stream",
          "name": "stdout",
          "text": [
            "Métricas de Avaliação:\n",
            "Acuracia: 0.8421\n",
            "Sensibilidade: 0.9091\n",
            "Especificidade: 0.7500\n",
            "Precisao: 0.8333\n",
            "F_score: 0.8696\n",
            "\n",
            "Exemplo com possíveis divisões por zero:\n",
            "Acuracia: 1.0000\n",
            "Sensibilidade: Indefinido\n",
            "Especificidade: 1.0000\n",
            "Precisao: Indefinido\n",
            "F_score: Indefinido\n"
          ]
        }
      ],
      "source": [
        "# prompt: Neste projeto, vamos calcular as principais métricas para avaliação de modelos de classificação de dados, como acurácia, sensibilidade (recall), especificidade, precisão e F-score. Para que seja possível implementar estas funções, você deve utilizar os métodos e suas fórmulas correspondentes (Tabela 1).\n",
        "# Para a leitura dos valores de VP, VN, FP e FN, será necessário escolher uma matriz de confusão para a base dos cálculos. Essa matriz você pode escolher de forma arbitraria, pois nosso objetivo é entender como funciona cada métrica.\n",
        "# Tabela 1: Visão geral das métricas usadas para avaliar métodos de classificação. VP: verdadeiros positivos; FN: falsos negativos; FP: falsos positivos; VN: verdadeiros negativos; P: precisão; S: sensibilidade; N: total de elementos.\n",
        "\n",
        "def calculate_classification_metrics(vp, vn, fp, fn):\n",
        "    \"\"\"\n",
        "    Calcula as principais métricas de avaliação para modelos de classificação.\n",
        "\n",
        "    Args:\n",
        "        vp (int): Verdadeiros Positivos.\n",
        "        vn (int): Verdadeiros Negativos.\n",
        "        fp (int): Falsos Positivos.\n",
        "        fn (int): Falsos Negativos.\n",
        "\n",
        "    Returns:\n",
        "        dict: Um dicionário contendo as métricas calculadas.\n",
        "              As chaves são 'acuracia', 'sensibilidade', 'especificidade', 'precisao', 'f_score'.\n",
        "              Os valores são os resultados dos cálculos. Retorna None para métricas\n",
        "              indefinidas (divisão por zero).\n",
        "    \"\"\"\n",
        "    total_elementos = vp + vn + fp + fn\n",
        "\n",
        "    acuracia = (vp + vn) / total_elementos if total_elementos > 0 else None\n",
        "    sensibilidade = vp / (vp + fn) if (vp + fn) > 0 else None\n",
        "    especificidade = vn / (vn + fp) if (vn + fp) > 0 else None\n",
        "    precisao = vp / (vp + fp) if (vp + fp) > 0 else None\n",
        "\n",
        "    if precisao is not None and sensibilidade is not None and (precisao + sensibilidade) > 0:\n",
        "        f_score = 2 * (precisao * sensibilidade) / (precisao + sensibilidade)\n",
        "    else:\n",
        "        f_score = None\n",
        "\n",
        "    metrics = {\n",
        "        'acuracia': acuracia,\n",
        "        'sensibilidade': sensibilidade,\n",
        "        'especificidade': especificidade,\n",
        "        'precisao': precisao,\n",
        "        'f_score': f_score\n",
        "    }\n",
        "    return metrics\n",
        "\n",
        "# Exemplo de uso com uma matriz de confusão arbitrária:\n",
        "# Suponha que temos os seguintes valores da matriz de confusão:\n",
        "verdadeiros_positivos = 50\n",
        "verdadeiros_negativos = 30\n",
        "falsos_positivos = 10\n",
        "falsos_negativos = 5\n",
        "\n",
        "metrics = calculate_classification_metrics(verdadeiros_positivos, verdadeiros_negativos, falsos_positivos, falsos_negativos)\n",
        "\n",
        "print(\"Métricas de Avaliação:\")\n",
        "for metric, value in metrics.items():\n",
        "    print(f\"{metric.capitalize()}: {value:.4f}\" if value is not None else f\"{metric.capitalize()}: Indefinido\")\n",
        "\n",
        "# Outro exemplo com valores que podem resultar em divisão por zero\n",
        "verdadeiros_positivos_exemplo2 = 0\n",
        "verdadeiros_negativos_exemplo2 = 10\n",
        "falsos_positivos_exemplo2 = 0\n",
        "falsos_negativos_exemplo2 = 0\n",
        "\n",
        "print(\"\\nExemplo com possíveis divisões por zero:\")\n",
        "metrics_exemplo2 = calculate_classification_metrics(verdadeiros_positivos_exemplo2, verdadeiros_negativos_exemplo2, falsos_positivos_exemplo2, falsos_negativos_exemplo2)\n",
        "for metric, value in metrics_exemplo2.items():\n",
        "    print(f\"{metric.capitalize()}: {value:.4f}\" if value is not None else f\"{metric.capitalize()}: Indefinido\")\n"
      ]
    }
  ]
}